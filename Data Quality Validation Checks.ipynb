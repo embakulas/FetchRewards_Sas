{
 "cells": [
  {
   "cell_type": "markdown",
   "id": "2727e3b6",
   "metadata": {},
   "source": [
    "# Data Quality Checks/Validations for Users, Brands, Receipts and ReceiptItems Files after Extraction"
   ]
  },
  {
   "cell_type": "code",
   "execution_count": 38,
   "id": "1be3c595",
   "metadata": {},
   "outputs": [],
   "source": [
    "import pandas as pd\n",
    "import numpy as np"
   ]
  },
  {
   "cell_type": "code",
   "execution_count": 39,
   "id": "b70134fb",
   "metadata": {},
   "outputs": [],
   "source": [
    "# Load CSV files into pandas dataframes\n",
    "users_df = pd.read_csv(r\"C:\\Users\\embak\\OneDrive\\Desktop\\Fetch Assessment\\Solution\\Databricks output\\users.csv\")\n",
    "receipts_df = pd.read_csv(r\"C:\\Users\\embak\\OneDrive\\Desktop\\Fetch Assessment\\Solution\\Databricks output\\receipts.csv\")\n",
    "brands_df = pd.read_csv(r\"C:\\Users\\embak\\OneDrive\\Desktop\\Fetch Assessment\\Solution\\Cleaned\\brands_processed.csv\")\n",
    "receiptitems_df = pd.read_csv(r\"C:\\Users\\embak\\OneDrive\\Desktop\\Fetch Assessment\\Solution\\Databricks output\\receiptitems.csv\")"
   ]
  },
  {
   "cell_type": "code",
   "execution_count": 40,
   "id": "1579ae80",
   "metadata": {},
   "outputs": [],
   "source": [
    "# Check for missing or null values\n",
    "missing_values = {\n",
    "    'Users': users_df.isnull().sum(),\n",
    "    'Receipts': receipts_df.isnull().sum(),\n",
    "    'Brands': brands_df.isnull().sum(),\n",
    "    'ReceiptItems': receiptitems_df.isnull().sum()\n",
    "}"
   ]
  },
  {
   "cell_type": "code",
   "execution_count": 41,
   "id": "4bbe3080",
   "metadata": {},
   "outputs": [
    {
     "data": {
      "text/plain": [
       "{'Users': user_id          0\n",
       " state           56\n",
       " createdDate      0\n",
       " lastLogin       62\n",
       " role             0\n",
       " active           0\n",
       " signUpSource    48\n",
       " dtype: int64,\n",
       " 'Receipts': receipt_id                   0\n",
       " user_id                      0\n",
       " bonusPointsEarned          575\n",
       " bonusPointsEarnedReason    575\n",
       " createDate                   0\n",
       " dateScanned                  0\n",
       " finishedDate               551\n",
       " modifyDate                   0\n",
       " pointsAwardedDate          582\n",
       " pointsEarned               510\n",
       " purchaseDate               448\n",
       " purchasedItemCount         484\n",
       " rewardsReceiptStatus         0\n",
       " totalSpent                 435\n",
       " dtype: int64,\n",
       " 'Brands': _id               0\n",
       " barcode           1\n",
       " brandCode       269\n",
       " category        156\n",
       " categoryCode    651\n",
       " name              0\n",
       " topBrand          0\n",
       " cpgId             0\n",
       " cpgRef            1\n",
       " dtype: int64,\n",
       " 'ReceiptItems': receipt_id                    0\n",
       " barcode                    3851\n",
       " description                 381\n",
       " finalPrice                  174\n",
       " itemPrice                   174\n",
       " needsFetchReview           6128\n",
       " partnerItemId                 0\n",
       " preventTargetGapPoints     6583\n",
       " quantityPurchased           174\n",
       " userFlaggedBarcode         6604\n",
       " userFlaggedNewItem         6618\n",
       " userFlaggedPrice           6642\n",
       " userFlaggedQuantity        6642\n",
       " needsFetchReviewReason     6722\n",
       " pointsNotAwardedReason     6601\n",
       " pointsPayerId                 0\n",
       " rewardsGroup               5210\n",
       " rewardsProductPartnerId    4672\n",
       " userFlaggedDescription     6787\n",
       " dtype: int64}"
      ]
     },
     "execution_count": 41,
     "metadata": {},
     "output_type": "execute_result"
    }
   ],
   "source": [
    "missing_values"
   ]
  },
  {
   "cell_type": "code",
   "execution_count": 42,
   "id": "3d4e07d5",
   "metadata": {},
   "outputs": [],
   "source": [
    "# Check for duplicate primary keys\n",
    "duplicate_keys = {\n",
    "    'Users_duplicates': users_df.duplicated().sum(),\n",
    "    'Receipts_duplicates': receipts_df.duplicated().sum(),\n",
    "    'Brands_duplicates': brands_df.duplicated().sum(),\n",
    "}"
   ]
  },
  {
   "cell_type": "code",
   "execution_count": 43,
   "id": "81fbca48",
   "metadata": {},
   "outputs": [
    {
     "data": {
      "text/plain": [
       "{'Users_duplicates': 283, 'Receipts_duplicates': 0, 'Brands_duplicates': 0}"
      ]
     },
     "execution_count": 43,
     "metadata": {},
     "output_type": "execute_result"
    }
   ],
   "source": [
    "duplicate_keys"
   ]
  },
  {
   "cell_type": "code",
   "execution_count": 44,
   "id": "1ba87702",
   "metadata": {},
   "outputs": [],
   "source": [
    "# Check for foreign key violations\n",
    "missing_user_ids = receipts_df[~receipts_df['user_id'].isin(users_df['user_id'])]['user_id'].unique()\n",
    "missing_cpg_pointsPayerId = receiptitems_df[~receiptitems_df['pointsPayerId'].isin(brands_df['cpgId'])]['pointsPayerId'].unique()"
   ]
  },
  {
   "cell_type": "code",
   "execution_count": 45,
   "id": "731309df",
   "metadata": {},
   "outputs": [],
   "source": [
    "foreign_key_violations = {\n",
    "    'Receipts_missing_user_ids': len(missing_user_ids),\n",
    "    'ReceiptItems_missing_brands': len(missing_cpg_pointsPayerId)\n",
    "}"
   ]
  },
  {
   "cell_type": "code",
   "execution_count": 47,
   "id": "ddfa8415",
   "metadata": {},
   "outputs": [
    {
     "data": {
      "text/plain": [
       "{'Receipts_missing_user_ids': 117, 'ReceiptItems_missing_brands': 3}"
      ]
     },
     "execution_count": 47,
     "metadata": {},
     "output_type": "execute_result"
    }
   ],
   "source": [
    "foreign_key_violations"
   ]
  },
  {
   "cell_type": "code",
   "execution_count": 48,
   "id": "d44050f9",
   "metadata": {},
   "outputs": [],
   "source": [
    "# Check for duplicate rows\n",
    "duplicate_rows = {\n",
    "    'Users': users_df.duplicated().sum(),\n",
    "    'Receipts': receipts_df.duplicated().sum(),\n",
    "    'Brands': brands_df.duplicated().sum(),\n",
    "    'ReceiptItems': receiptitems_df.duplicated().sum()\n",
    "}"
   ]
  },
  {
   "cell_type": "code",
   "execution_count": 49,
   "id": "af404596",
   "metadata": {},
   "outputs": [
    {
     "data": {
      "text/plain": [
       "{'Users': 283, 'Receipts': 0, 'Brands': 0, 'ReceiptItems': 0}"
      ]
     },
     "execution_count": 49,
     "metadata": {},
     "output_type": "execute_result"
    }
   ],
   "source": [
    "duplicate_rows"
   ]
  },
  {
   "cell_type": "code",
   "execution_count": 50,
   "id": "13fbcba9",
   "metadata": {},
   "outputs": [],
   "source": [
    "# Combine all issues into a single DataFrame\n",
    "data_quality_issues = {\n",
    "    'Missing Values': missing_values,\n",
    "    'Duplicate Keys': duplicate_keys,\n",
    "    'Foreign Key Violations': foreign_key_violations,\n",
    "    'Diplicate Rows': duplicate_rows\n",
    "}"
   ]
  },
  {
   "cell_type": "code",
   "execution_count": 51,
   "id": "d401367c",
   "metadata": {},
   "outputs": [
    {
     "data": {
      "text/plain": [
       "{'Missing Values': {'Users': user_id          0\n",
       "  state           56\n",
       "  createdDate      0\n",
       "  lastLogin       62\n",
       "  role             0\n",
       "  active           0\n",
       "  signUpSource    48\n",
       "  dtype: int64,\n",
       "  'Receipts': receipt_id                   0\n",
       "  user_id                      0\n",
       "  bonusPointsEarned          575\n",
       "  bonusPointsEarnedReason    575\n",
       "  createDate                   0\n",
       "  dateScanned                  0\n",
       "  finishedDate               551\n",
       "  modifyDate                   0\n",
       "  pointsAwardedDate          582\n",
       "  pointsEarned               510\n",
       "  purchaseDate               448\n",
       "  purchasedItemCount         484\n",
       "  rewardsReceiptStatus         0\n",
       "  totalSpent                 435\n",
       "  dtype: int64,\n",
       "  'Brands': _id               0\n",
       "  barcode           1\n",
       "  brandCode       269\n",
       "  category        156\n",
       "  categoryCode    651\n",
       "  name              0\n",
       "  topBrand          0\n",
       "  cpgId             0\n",
       "  cpgRef            1\n",
       "  dtype: int64,\n",
       "  'ReceiptItems': receipt_id                    0\n",
       "  barcode                    3851\n",
       "  description                 381\n",
       "  finalPrice                  174\n",
       "  itemPrice                   174\n",
       "  needsFetchReview           6128\n",
       "  partnerItemId                 0\n",
       "  preventTargetGapPoints     6583\n",
       "  quantityPurchased           174\n",
       "  userFlaggedBarcode         6604\n",
       "  userFlaggedNewItem         6618\n",
       "  userFlaggedPrice           6642\n",
       "  userFlaggedQuantity        6642\n",
       "  needsFetchReviewReason     6722\n",
       "  pointsNotAwardedReason     6601\n",
       "  pointsPayerId                 0\n",
       "  rewardsGroup               5210\n",
       "  rewardsProductPartnerId    4672\n",
       "  userFlaggedDescription     6787\n",
       "  dtype: int64},\n",
       " 'Duplicate Keys': {'Users_duplicates': 283,\n",
       "  'Receipts_duplicates': 0,\n",
       "  'Brands_duplicates': 0},\n",
       " 'Foreign Key Violations': {'Receipts_missing_user_ids': 117,\n",
       "  'ReceiptItems_missing_brands': 3},\n",
       " 'Diplicate Rows': {'Users': 283,\n",
       "  'Receipts': 0,\n",
       "  'Brands': 0,\n",
       "  'ReceiptItems': 0}}"
      ]
     },
     "execution_count": 51,
     "metadata": {},
     "output_type": "execute_result"
    }
   ],
   "source": [
    "data_quality_issues"
   ]
  },
  {
   "cell_type": "code",
   "execution_count": 52,
   "id": "8a534b60",
   "metadata": {},
   "outputs": [
    {
     "name": "stdout",
     "output_type": "stream",
     "text": [
      "                                                                Missing Values  \\\n",
      "Users                        user_id          0\n",
      "state           56\n",
      "createdD...   \n",
      "Receipts                     receipt_id                   0\n",
      "user_id        ...   \n",
      "Brands                       _id               0\n",
      "barcode           1\n",
      "brandC...   \n",
      "ReceiptItems                 receipt_id                    0\n",
      "barcode       ...   \n",
      "Users_duplicates                                                           NaN   \n",
      "Receipts_duplicates                                                        NaN   \n",
      "Brands_duplicates                                                          NaN   \n",
      "Receipts_missing_user_ids                                                  NaN   \n",
      "ReceiptItems_missing_brands                                                NaN   \n",
      "\n",
      "                            Diplicate Rows Duplicate Keys  \\\n",
      "Users                                  283            NaN   \n",
      "Receipts                                 0            NaN   \n",
      "Brands                                   0            NaN   \n",
      "ReceiptItems                             0            NaN   \n",
      "Users_duplicates                       NaN          283.0   \n",
      "Receipts_duplicates                    NaN            0.0   \n",
      "Brands_duplicates                      NaN            0.0   \n",
      "Receipts_missing_user_ids              NaN            NaN   \n",
      "ReceiptItems_missing_brands            NaN            NaN   \n",
      "\n",
      "                            Foreign Key Violations  \n",
      "Users                                          NaN  \n",
      "Receipts                                       NaN  \n",
      "Brands                                         NaN  \n",
      "ReceiptItems                                   NaN  \n",
      "Users_duplicates                               NaN  \n",
      "Receipts_duplicates                            NaN  \n",
      "Brands_duplicates                              NaN  \n",
      "Receipts_missing_user_ids                    117.0  \n",
      "ReceiptItems_missing_brands                    3.0  \n"
     ]
    }
   ],
   "source": [
    "# Convert to DataFrame for better readability\n",
    "data_quality_issues_df = pd.DataFrame.from_dict(data_quality_issues, orient='index').T\n",
    "print(data_quality_issues_df)"
   ]
  },
  {
   "cell_type": "code",
   "execution_count": null,
   "id": "0cba1c1e",
   "metadata": {},
   "outputs": [],
   "source": []
  }
 ],
 "metadata": {
  "kernelspec": {
   "display_name": "Python 3 (ipykernel)",
   "language": "python",
   "name": "python3"
  },
  "language_info": {
   "codemirror_mode": {
    "name": "ipython",
    "version": 3
   },
   "file_extension": ".py",
   "mimetype": "text/x-python",
   "name": "python",
   "nbconvert_exporter": "python",
   "pygments_lexer": "ipython3",
   "version": "3.10.9"
  }
 },
 "nbformat": 4,
 "nbformat_minor": 5
}
