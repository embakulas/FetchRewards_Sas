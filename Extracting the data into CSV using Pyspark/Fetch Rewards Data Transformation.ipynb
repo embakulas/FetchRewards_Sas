{
 "cells": [
  {
   "cell_type": "code",
   "execution_count": 0,
   "metadata": {
    "application/vnd.databricks.v1+cell": {
     "cellMetadata": {
      "byteLimit": 2048000,
      "rowLimit": 10000
     },
     "inputWidgets": {},
     "nuid": "c96a9a7b-299e-4d66-96d1-6f8cfc6c9481",
     "showTitle": false,
     "title": ""
    }
   },
   "outputs": [],
   "source": [
    "from pyspark.sql import SparkSession\n",
    "from pyspark.sql.functions import col, explode, lit, when, to_timestamp\n",
    "from pyspark.sql.types import StringType, TimestampType, DecimalType"
   ]
  },
  {
   "cell_type": "code",
   "execution_count": 0,
   "metadata": {
    "application/vnd.databricks.v1+cell": {
     "cellMetadata": {
      "byteLimit": 2048000,
      "rowLimit": 10000
     },
     "inputWidgets": {},
     "nuid": "b7db9386-a94f-44c8-837b-6df5e7efaf86",
     "showTitle": false,
     "title": ""
    }
   },
   "outputs": [],
   "source": [
    "# Initialize Spark session\n",
    "spark = SparkSession.builder \\\n",
    "    .appName(\"Fetch Rewards Data Transformation\") \\\n",
    "    .getOrCreate()"
   ]
  },
  {
   "cell_type": "code",
   "execution_count": 0,
   "metadata": {
    "application/vnd.databricks.v1+cell": {
     "cellMetadata": {
      "byteLimit": 2048000,
      "rowLimit": 10000
     },
     "inputWidgets": {},
     "nuid": "0c6726e9-46fb-4de1-bab0-936c75da09a5",
     "showTitle": false,
     "title": ""
    }
   },
   "outputs": [],
   "source": [
    "# Load JSON files into DataFrames\n",
    "users_df = spark.read.json(\"/FileStore/tables/DataFiles/users.json\")\n",
    "receipts_df = spark.read.json(\"/FileStore/tables/DataFiles/receipts.json\")\n",
    "brands_df = spark.read.json(\"/FileStore/tables/DataFiles/brands.json\")"
   ]
  },
  {
   "cell_type": "code",
   "execution_count": 0,
   "metadata": {
    "application/vnd.databricks.v1+cell": {
     "cellMetadata": {
      "byteLimit": 2048000,
      "rowLimit": 10000
     },
     "inputWidgets": {},
     "nuid": "f6e2bc85-365f-4f03-a657-554c4fa29448",
     "showTitle": false,
     "title": ""
    }
   },
   "outputs": [],
   "source": [
    "# Process Users Table\n",
    "users_df = users_df.select(\n",
    "    col(\"_id.$oid\").alias(\"user_id\").cast(StringType()),\n",
    "    col(\"state\"),\n",
    "    to_timestamp((col(\"createdDate.$date\") / 1000)).alias(\"createdDate\"),  # Convert to proper timestamp\n",
    "    to_timestamp((col(\"lastLogin.$date\") / 1000)).alias(\"lastLogin\"),  # Convert to proper timestamp\n",
    "    col(\"role\"),\n",
    "    col(\"active\"),\n",
    "    col(\"signUpSource\")\n",
    ")"
   ]
  },
  {
   "cell_type": "code",
   "execution_count": 0,
   "metadata": {
    "application/vnd.databricks.v1+cell": {
     "cellMetadata": {
      "byteLimit": 2048000,
      "rowLimit": 10000
     },
     "inputWidgets": {},
     "nuid": "49c870eb-650e-4c34-8e13-353cba09b557",
     "showTitle": false,
     "title": ""
    }
   },
   "outputs": [],
   "source": [
    "# Process Receipts Table\n",
    "receipts_df = receipts_df.select(\n",
    "    col(\"_id.$oid\").alias(\"receipt_id\").cast(StringType()),\n",
    "    col(\"userId\").alias(\"user_id\").cast(StringType()),\n",
    "    col(\"bonusPointsEarned\"),\n",
    "    col(\"bonusPointsEarnedReason\"),\n",
    "    to_timestamp((col(\"createDate.$date\") / 1000)).alias(\"createDate\"),  # Convert to proper timestamp\n",
    "    to_timestamp((col(\"dateScanned.$date\") / 1000)).alias(\"dateScanned\"),  # Convert to proper timestamp\n",
    "    to_timestamp((col(\"finishedDate.$date\") / 1000)).alias(\"finishedDate\"),  # Convert to proper timestamp\n",
    "    to_timestamp((col(\"modifyDate.$date\") / 1000)).alias(\"modifyDate\"),  # Convert to proper timestamp\n",
    "    to_timestamp((col(\"pointsAwardedDate.$date\") / 1000)).alias(\"pointsAwardedDate\"),  # Convert to proper timestamp\n",
    "    col(\"pointsEarned\").cast(DecimalType(10, 2)),\n",
    "    to_timestamp((col(\"purchaseDate.$date\") / 1000)).alias(\"purchaseDate\"),  # Convert to proper timestamp\n",
    "    col(\"purchasedItemCount\"),\n",
    "    col(\"rewardsReceiptStatus\"),\n",
    "    col(\"totalSpent\").cast(DecimalType(10, 2)),\n",
    "    col(\"rewardsReceiptItemList\")\n",
    ")\n",
    "\n",
    "# Explode the nested rewardsReceiptItemList array\n",
    "exploded_df = receipts_df.withColumn(\"receiptItem\", explode(col(\"rewardsReceiptItemList\")))\n",
    "receipt_items_df = exploded_df.select(\n",
    "    col(\"receipt_id\"),\n",
    "    col(\"receiptItem.barcode\"),\n",
    "    col(\"receiptItem.description\"),\n",
    "    col(\"receiptItem.finalPrice\").cast(DecimalType(10, 2)).alias(\"finalPrice\"),\n",
    "    col(\"receiptItem.itemPrice\").cast(DecimalType(10, 2)).alias(\"itemPrice\"),\n",
    "    col(\"receiptItem.needsFetchReview\"),\n",
    "    col(\"receiptItem.partnerItemId\").cast(StringType()).alias(\"partnerItemId\"),\n",
    "    col(\"receiptItem.preventTargetGapPoints\"),\n",
    "    col(\"receiptItem.quantityPurchased\"),\n",
    "    col(\"receiptItem.userFlaggedBarcode\"),\n",
    "    col(\"receiptItem.userFlaggedNewItem\"),\n",
    "    col(\"receiptItem.userFlaggedPrice\").cast(DecimalType(10, 2)).alias(\"userFlaggedPrice\"),\n",
    "    col(\"receiptItem.userFlaggedQuantity\"),\n",
    "    col(\"receiptItem.needsFetchReviewReason\"),\n",
    "    col(\"receiptItem.pointsNotAwardedReason\"),\n",
    "    col(\"receiptItem.pointsPayerId\").cast(StringType()).alias(\"pointsPayerId\"),\n",
    "    col(\"receiptItem.rewardsGroup\"),\n",
    "    col(\"receiptItem.rewardsProductPartnerId\").cast(StringType()).alias(\"rewardsProductPartnerId\"),\n",
    "    col(\"receiptItem.userFlaggedDescription\")\n",
    ").withColumn(\"pointsPayerId\", when(col(\"pointsPayerId\").isNull(), lit(\"-1\")).otherwise(col(\"pointsPayerId\")))\n"
   ]
  },
  {
   "cell_type": "code",
   "execution_count": 0,
   "metadata": {
    "application/vnd.databricks.v1+cell": {
     "cellMetadata": {
      "byteLimit": 2048000,
      "rowLimit": 10000
     },
     "inputWidgets": {},
     "nuid": "4bff9d03-26ab-4047-abff-d17a5138e44c",
     "showTitle": false,
     "title": ""
    }
   },
   "outputs": [],
   "source": [
    "# Process Brands Table\n",
    "brands_df = brands_df.select(\n",
    "    col(\"_id.$oid\").alias(\"brand_id\").cast(StringType()),\n",
    "    col(\"barcode\"),\n",
    "    col(\"brandCode\"),\n",
    "    col(\"category\"),\n",
    "    col(\"categoryCode\"),\n",
    "    col(\"cpg.$id.$oid\").alias(\"cpgId\").cast(StringType()),\n",
    "    col(\"cpg.$ref\").alias(\"cpgRef\"),\n",
    "    col(\"topBrand\"),\n",
    "    col(\"name\")\n",
    ")"
   ]
  },
  {
   "cell_type": "code",
   "execution_count": 0,
   "metadata": {
    "application/vnd.databricks.v1+cell": {
     "cellMetadata": {
      "byteLimit": 2048000,
      "rowLimit": 10000
     },
     "inputWidgets": {},
     "nuid": "cefc7e7d-ed34-4613-b55d-4e0d44651467",
     "showTitle": false,
     "title": ""
    }
   },
   "outputs": [],
   "source": [
    "# Add default entry for Brands table\n",
    "default_brand_df = spark.createDataFrame(\n",
    "    [( \"default_brand_id\", \"\", \"DEFAULT_BRAND\", \"\", \"\", \"-1\", \"\", False, \"Default Brand\")],\n",
    "    [\"brand_id\", \"barcode\", \"brandCode\", \"category\", \"categoryCode\", \"cpgId\", \"cpgRef\", \"topBrand\", \"name\"]\n",
    ")\n",
    "brands_df = brands_df.union(default_brand_df)"
   ]
  },
  {
   "cell_type": "code",
   "execution_count": 0,
   "metadata": {
    "application/vnd.databricks.v1+cell": {
     "cellMetadata": {
      "byteLimit": 2048000,
      "rowLimit": 10000
     },
     "inputWidgets": {},
     "nuid": "9ba2fe35-eb99-4752-ad87-599a8276c560",
     "showTitle": false,
     "title": ""
    }
   },
   "outputs": [
    {
     "output_type": "stream",
     "name": "stdout",
     "output_type": "stream",
     "text": [
      "root\n |-- user_id: string (nullable = true)\n |-- state: string (nullable = true)\n |-- createdDate: timestamp (nullable = true)\n |-- lastLogin: timestamp (nullable = true)\n |-- role: string (nullable = true)\n |-- active: boolean (nullable = true)\n |-- signUpSource: string (nullable = true)\n\nroot\n |-- receipt_id: string (nullable = true)\n |-- user_id: string (nullable = true)\n |-- bonusPointsEarned: long (nullable = true)\n |-- bonusPointsEarnedReason: string (nullable = true)\n |-- createDate: timestamp (nullable = true)\n |-- dateScanned: timestamp (nullable = true)\n |-- finishedDate: timestamp (nullable = true)\n |-- modifyDate: timestamp (nullable = true)\n |-- pointsAwardedDate: timestamp (nullable = true)\n |-- pointsEarned: decimal(10,2) (nullable = true)\n |-- purchaseDate: timestamp (nullable = true)\n |-- purchasedItemCount: long (nullable = true)\n |-- rewardsReceiptStatus: string (nullable = true)\n |-- totalSpent: decimal(10,2) (nullable = true)\n |-- rewardsReceiptItemList: array (nullable = true)\n |    |-- element: struct (containsNull = true)\n |    |    |-- barcode: string (nullable = true)\n |    |    |-- brandCode: string (nullable = true)\n |    |    |-- competitiveProduct: boolean (nullable = true)\n |    |    |-- competitorRewardsGroup: string (nullable = true)\n |    |    |-- deleted: boolean (nullable = true)\n |    |    |-- description: string (nullable = true)\n |    |    |-- discountedItemPrice: string (nullable = true)\n |    |    |-- finalPrice: string (nullable = true)\n |    |    |-- itemNumber: string (nullable = true)\n |    |    |-- itemPrice: string (nullable = true)\n |    |    |-- metabriteCampaignId: string (nullable = true)\n |    |    |-- needsFetchReview: boolean (nullable = true)\n |    |    |-- needsFetchReviewReason: string (nullable = true)\n |    |    |-- originalFinalPrice: string (nullable = true)\n |    |    |-- originalMetaBriteBarcode: string (nullable = true)\n |    |    |-- originalMetaBriteDescription: string (nullable = true)\n |    |    |-- originalMetaBriteItemPrice: string (nullable = true)\n |    |    |-- originalMetaBriteQuantityPurchased: long (nullable = true)\n |    |    |-- originalReceiptItemText: string (nullable = true)\n |    |    |-- partnerItemId: string (nullable = true)\n |    |    |-- pointsEarned: string (nullable = true)\n |    |    |-- pointsNotAwardedReason: string (nullable = true)\n |    |    |-- pointsPayerId: string (nullable = true)\n |    |    |-- preventTargetGapPoints: boolean (nullable = true)\n |    |    |-- priceAfterCoupon: string (nullable = true)\n |    |    |-- quantityPurchased: long (nullable = true)\n |    |    |-- rewardsGroup: string (nullable = true)\n |    |    |-- rewardsProductPartnerId: string (nullable = true)\n |    |    |-- targetPrice: string (nullable = true)\n |    |    |-- userFlaggedBarcode: string (nullable = true)\n |    |    |-- userFlaggedDescription: string (nullable = true)\n |    |    |-- userFlaggedNewItem: boolean (nullable = true)\n |    |    |-- userFlaggedPrice: string (nullable = true)\n |    |    |-- userFlaggedQuantity: long (nullable = true)\n\nroot\n |-- brand_id: string (nullable = true)\n |-- barcode: string (nullable = true)\n |-- brandCode: string (nullable = true)\n |-- category: string (nullable = true)\n |-- categoryCode: string (nullable = true)\n |-- cpgId: string (nullable = true)\n |-- cpgRef: string (nullable = true)\n |-- topBrand: boolean (nullable = true)\n |-- name: string (nullable = true)\n\nroot\n |-- receipt_id: string (nullable = true)\n |-- barcode: string (nullable = true)\n |-- description: string (nullable = true)\n |-- finalPrice: decimal(10,2) (nullable = true)\n |-- itemPrice: decimal(10,2) (nullable = true)\n |-- needsFetchReview: boolean (nullable = true)\n |-- partnerItemId: string (nullable = true)\n |-- preventTargetGapPoints: boolean (nullable = true)\n |-- quantityPurchased: long (nullable = true)\n |-- userFlaggedBarcode: string (nullable = true)\n |-- userFlaggedNewItem: boolean (nullable = true)\n |-- userFlaggedPrice: decimal(10,2) (nullable = true)\n |-- userFlaggedQuantity: long (nullable = true)\n |-- needsFetchReviewReason: string (nullable = true)\n |-- pointsNotAwardedReason: string (nullable = true)\n |-- pointsPayerId: string (nullable = true)\n |-- rewardsGroup: string (nullable = true)\n |-- rewardsProductPartnerId: string (nullable = true)\n |-- userFlaggedDescription: string (nullable = true)\n\n"
     ]
    }
   ],
   "source": [
    "# Print schemas to verify\n",
    "users_df.printSchema()\n",
    "receipts_df.printSchema()\n",
    "brands_df.printSchema()\n",
    "receipt_items_df.printSchema()"
   ]
  },
  {
   "cell_type": "code",
   "execution_count": 0,
   "metadata": {
    "application/vnd.databricks.v1+cell": {
     "cellMetadata": {
      "byteLimit": 2048000,
      "rowLimit": 10000
     },
     "inputWidgets": {},
     "nuid": "af98b5ba-ff2f-4246-9082-702218663891",
     "showTitle": false,
     "title": ""
    }
   },
   "outputs": [],
   "source": [
    "# Save DataFrames as CSV\n",
    "users_df.write.mode(\"overwrite\").csv(\"/dbfs/FileStore/fr1/users.csv\", header=True)\n",
    "receipts_df.select(\n",
    "    col(\"receipt_id\"),\n",
    "    col(\"user_id\"),\n",
    "    col(\"bonusPointsEarned\"),\n",
    "    col(\"bonusPointsEarnedReason\"),\n",
    "    col(\"createDate\"),\n",
    "    col(\"dateScanned\"),\n",
    "    col(\"finishedDate\"),\n",
    "    col(\"modifyDate\"),\n",
    "    col(\"pointsAwardedDate\"),\n",
    "    col(\"pointsEarned\"),\n",
    "    col(\"purchaseDate\"),\n",
    "    col(\"purchasedItemCount\"),\n",
    "    col(\"rewardsReceiptStatus\"),\n",
    "    col(\"totalSpent\")\n",
    ").write.mode(\"overwrite\").csv(\"/dbfs/FileStore/fr1/receipts.csv\", header=True)\n",
    "receipt_items_df.write.mode(\"overwrite\").csv(\"/dbfs/FileStore/fr1/receiptitems.csv\", header=True)\n",
    "brands_df.select(\n",
    "    col(\"brand_id\"),\n",
    "    col(\"barcode\"),\n",
    "    col(\"brandCode\"),\n",
    "    col(\"category\"),\n",
    "    col(\"categoryCode\"),\n",
    "    col(\"name\"),\n",
    "    col(\"topBrand\"),\n",
    "    col(\"cpgId\"),\n",
    "    col(\"cpgRef\")\n",
    ").write.mode(\"overwrite\").csv(\"/dbfs/FileStore/fr1/brands.csv\", header=True)"
   ]
  },
  {
   "cell_type": "code",
   "execution_count": 0,
   "metadata": {
    "application/vnd.databricks.v1+cell": {
     "cellMetadata": {},
     "inputWidgets": {},
     "nuid": "5d86a787-2d45-4a94-931b-026993ca17e4",
     "showTitle": false,
     "title": ""
    }
   },
   "outputs": [],
   "source": []
  }
 ],
 "metadata": {
  "application/vnd.databricks.v1+notebook": {
   "dashboards": [],
   "environmentMetadata": null,
   "language": "python",
   "notebookMetadata": {
    "pythonIndentUnit": 4
   },
   "notebookName": "Fetch Rewards Data Transformation",
   "widgets": {}
  }
 },
 "nbformat": 4,
 "nbformat_minor": 0
}
